{
  "nbformat": 4,
  "nbformat_minor": 0,
  "metadata": {
    "colab": {
      "name": "Plotly - Lesson Notebook.ipynb",
      "provenance": [],
      "collapsed_sections": [],
      "toc_visible": true
    },
    "kernelspec": {
      "name": "python383jvsc74a57bd0b3ba2566441a7c06988d0923437866b63cedc61552a5af99d1f4fb67d367b25f",
      "display_name": "Python 3.8.3 64-bit ('base': conda)"
    },
    "language_info": {
      "name": "python",
      "version": "3.8.3"
    }
  },
  "cells": [
    {
      "cell_type": "markdown",
      "metadata": {
        "id": "SoWVo5csafaS"
      },
      "source": [
        "# Plotly Lesson"
      ]
    },
    {
      "cell_type": "markdown",
      "metadata": {
        "id": "-fYCxIJfhPwF"
      },
      "source": [
        "## Lesson Learning Outcome"
      ]
    },
    {
      "cell_type": "markdown",
      "metadata": {
        "id": "ZKAhSxNvhTg0"
      },
      "source": [
        "* **Plotly Lesson is made of 4 units.**\n",
        "* By the end of this lesson, you should be able to:\n",
        "  * Work with Plotly datasets, understand interactive buttons and Plotly Figures\n",
        "  * Code and interpret a wide range of plot types from Plotly\n",
        "\n",
        "---"
      ]
    },
    {
      "cell_type": "markdown",
      "metadata": {
        "id": "Ndq4Kg-yhxKm"
      },
      "source": [
        "## Unit Objectives"
      ]
    },
    {
      "cell_type": "markdown",
      "metadata": {
        "id": "LiujW2ORafaX"
      },
      "source": [
        "* xxxx\n",
        "\n"
      ]
    },
    {
      "cell_type": "markdown",
      "metadata": {
        "id": "QRr9AthgafaZ"
      },
      "source": [
        "---"
      ]
    },
    {
      "cell_type": "markdown",
      "metadata": {
        "id": "TXeFM9FuafaY"
      },
      "source": [
        "* Plotly is a data visualization library written in JavaScript, making graphs inherently  interactive\n",
        "* Plotly offers more than 30 unique charts, and wide customization for statistical, geographical, financial, and 3-D plot types.\n",
        "* The core aspect of plotly is to allow you to hover over values to reveal more detail and zoom in and out of your graphs. The interactivity and animation of the plots allows you to do a much deeper and more extensive investigation of your data while it maintains a substantial level of customization \n",
        "\n",
        "* **Why do we study Plotly?**\n",
        "  * Because there will be use cases where it is a must to add interactivity and animation to your data visualization.  \n",
        "  * This will offer a more detailed visualization when exploring, understanding and communicating your data insights\n"
      ]
    },
    {
      "cell_type": "markdown",
      "metadata": {
        "id": "JfTD1ZiMjE53"
      },
      "source": [
        "## Additional Learning Context"
      ]
    },
    {
      "cell_type": "markdown",
      "metadata": {
        "id": "05-LnxO9jGRN"
      },
      "source": [
        "* We encourage you to:\n",
        "  * Add addtional **code cells and try out** other possibilities, ie. play around with parameters values in a function/method, or consider additional function parameters etc.\n",
        "  * Also, **add your own comments** in the cells. It can help you to consolidate the learning. \n",
        "\n",
        "* Notebook Challenge\n",
        "  * At the end of the unit notebook, there is a challenge section.\n",
        "  * **Do the challenge** in the provided cell, then **run the test**.\n",
        "  * Only when the tests for **all challenges are passed**, **click submit button**.\n",
        "\n",
        "* Parameters in given function/method\n",
        "  * As you may expect, a given function in a package may contain multiple parameters. \n",
        "  * Some of them are mandatory to declare; some have pre-defined values; and some are optional. We will cover the most common parameters used/employed at Data Science for a particular function/method. \n",
        "  * However, you may seek additional in the respective package documentation, where you will find instructions on how to use a given function/method. The studied packages are open source, so this documentation is public.\n",
        "  * **For Plotly in Python the link is [here](https://plotly.com/python/)**."
      ]
    },
    {
      "cell_type": "markdown",
      "metadata": {
        "id": "-H-A1tntKAwM"
      },
      "source": [
        "---"
      ]
    },
    {
      "cell_type": "markdown",
      "metadata": {
        "id": "3hmB6wo1afaZ"
      },
      "source": [
        "## Import Package for Learning"
      ]
    },
    {
      "cell_type": "markdown",
      "metadata": {
        "id": "G0ItQxFIATmz"
      },
      "source": [
        "The Plotly version installed in Colab sessions is 4.4.1. We are interested in a more recent version. Therefore we run the command `! pip install plotly -U` to install the most recent version"
      ]
    },
    {
      "cell_type": "code",
      "metadata": {
        "id": "d6K15X6KtVKi"
      },
      "source": [
        "! pip install plotly -U"
      ],
      "execution_count": null,
      "outputs": []
    },
    {
      "cell_type": "code",
      "metadata": {
        "id": "XrgSs9DCafaa"
      },
      "source": [
        "import numpy as np\n",
        "import pandas as pd\n",
        "import matplotlib.pyplot as plt\n",
        "import seaborn as sns\n",
        "import plotly.express as px"
      ],
      "execution_count": null,
      "outputs": []
    },
    {
      "cell_type": "markdown",
      "metadata": {
        "id": "xxqw3evSafab"
      },
      "source": [
        "---"
      ]
    },
    {
      "cell_type": "markdown",
      "metadata": {
        "id": "YcPZPGFJtMoh"
      },
      "source": [
        "# Unit 01 - Plotly Introduction: Part 01"
      ]
    },
    {
      "cell_type": "markdown",
      "metadata": {
        "id": "uRx2ayMQtwfB"
      },
      "source": [
        "Plotly Python library aims to **create, manipulate and render graphical figures in a interactive way while maintaining a substantial level of customization**.\n",
        "\n",
        "\n",
        "The **rendering process** uses the Plotly.js **JavaScript** in the back end. \n",
        "* However, we will not need to interact with the Javascript library itself.\n",
        "\n",
        "---"
      ]
    },
    {
      "cell_type": "markdown",
      "metadata": {
        "id": "rMgwxlTCEIum"
      },
      "source": [
        "**Is Plotly the only library for interactive data visualization?**\n",
        "\n",
        "\n",
        "No, there are other libraries that offers similar Plotly-like capabilties, like [Bokeh](https://bokeh.org/), [Altair](https://altair-viz.github.io/) and [Folium](https://python-visualization.github.io/folium/quickstart.html)\n",
        "  * In general lines, there is no **\"best plotting library\"**, as it will all depend on the use cases you will have in your project, how you and your team are familiar with the syntax that each library has, and your personal/professional preferences on the aesthetics that each library offers for example.\n",
        "    * We will study **Plotly Express** in this course, a module of Plotly, since its syntax is simple and intuitive. Typically, it will cover the majority of the use cases you might face in the workplace.\n",
        "    * At the same time, we encourage you in your spare time for professional learning, to study by yourself the other libraries mentioned above\n"
      ]
    },
    {
      "cell_type": "markdown",
      "metadata": {
        "id": "K_3IBXezJ5Ck"
      },
      "source": [
        "![image.png](data:image/png;base64,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)"
      ]
    },
    {
      "cell_type": "markdown",
      "metadata": {
        "id": "dMSb0UDCKDgd"
      },
      "source": [
        "---"
      ]
    },
    {
      "cell_type": "markdown",
      "metadata": {
        "id": "JQdfbXr1xeZ7"
      },
      "source": [
        "## Plotly Modules"
      ]
    },
    {
      "cell_type": "markdown",
      "metadata": {
        "id": "4mufEvGRt76p"
      },
      "source": [
        "* Ploty has multiple modules where we can apply in a Data Science project. The recommended module as an entry-point is  **Plotly Express, or the alias px**. \n",
        "  * We will start studying this module. This is a high-level data visualization API that produces fully-populated graph object figures in single function-calls. \n",
        "  * It has a set of functions that can create figures at once. It works in an integrated fashion with Pandas DataFrames\n",
        "    * The documentation for Plotly Express in Python can be found [here](https://plotly.com/python/plotly-express/).\n",
        "\n",
        "Plotly Express is typically imported with the alias `px` "
      ]
    },
    {
      "cell_type": "code",
      "metadata": {
        "id": "kzauO6avv38v"
      },
      "source": [
        "import plotly.express as px"
      ],
      "execution_count": null,
      "outputs": []
    },
    {
      "cell_type": "markdown",
      "metadata": {
        "id": "h0iPLZ6WxaRz"
      },
      "source": [
        "## Plotly Datasets API"
      ]
    },
    {
      "cell_type": "markdown",
      "metadata": {
        "id": "7aLMvHnl7yMk"
      },
      "source": [
        "* Plotly offers a substantial amount of datasets to help you to better make sense of its capabilities.\n",
        "  * Naturally, these datasets can be used for ML tasks and data visualization purposes"
      ]
    },
    {
      "cell_type": "markdown",
      "metadata": {
        "id": "birTABLuA4Dy"
      },
      "source": [
        "### Plotly Express Datasets"
      ]
    },
    {
      "cell_type": "markdown",
      "metadata": {
        "id": "hzuZZJw978wW"
      },
      "source": [
        "* Loading a dataset in Plotly Express is different than Seaborn.\n",
        "  * you will have to type `px.data.` and you will see embeded datasets. \n",
        "  * It starts in `carshare` and goes until `wind`.\n",
        "  * Don't forget to at `()` at the end"
      ]
    },
    {
      "cell_type": "markdown",
      "metadata": {
        "id": "XyQN2Mt79hf1"
      },
      "source": [
        "![image.png](data:image/png;base64,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)"
      ]
    },
    {
      "cell_type": "markdown",
      "metadata": {
        "id": "FZkpBNPTfiFl"
      },
      "source": [
        "Below we load `carshare()` dataset.\n",
        "* It has records for the availability of car-sharing services near the centroid of a zone in Montreal over a month-long period"
      ]
    },
    {
      "cell_type": "code",
      "metadata": {
        "id": "DhQiLdtwfZhP"
      },
      "source": [
        "df = px.data.carshare()\n",
        "df.head()"
      ],
      "execution_count": null,
      "outputs": []
    },
    {
      "cell_type": "markdown",
      "metadata": {
        "id": "pD-m1u9-9r-G"
      },
      "source": [
        "* Try yourself and load few datasets"
      ]
    },
    {
      "cell_type": "code",
      "metadata": {
        "id": "G2TTuwMd9vxr"
      },
      "source": [
        "df = ......  # load here plotly express datasets using px.data.\n",
        "df.head()"
      ],
      "execution_count": null,
      "outputs": []
    },
    {
      "cell_type": "markdown",
      "metadata": {
        "id": "dB9T3SM-A657"
      },
      "source": [
        "### Plotly GitHub Datasets"
      ]
    },
    {
      "cell_type": "markdown",
      "metadata": {
        "id": "2QnQaUcA954u"
      },
      "source": [
        "* In addition, you can load Plotly datasets from its GitHub page using Pandas. Visit this [link](https://github.com/plotly/datasets) to check the dataset list.\n",
        "  * We picked `earthquake.csv` as the example below:"
      ]
    },
    {
      "cell_type": "code",
      "metadata": {
        "id": "KLr-MyI9BRSP"
      },
      "source": [
        "dataset_name = 'earthquake.csv'\n",
        "df = pd.read_csv(f'https://raw.githubusercontent.com/plotly/datasets/master/{dataset_name}')\n",
        "df.head(3)"
      ],
      "execution_count": null,
      "outputs": []
    },
    {
      "cell_type": "markdown",
      "metadata": {
        "id": "Nx0m6v7y-e2M"
      },
      "source": [
        "* Try yourself now, go to that link, pick few datasets and load them here"
      ]
    },
    {
      "cell_type": "code",
      "metadata": {
        "id": "aq-f7slt-nzH"
      },
      "source": [
        "dataset_name = '.........'  # pick a dataset, don't forget to add .csv \n",
        "df = pd.read_csv(f'https://raw.githubusercontent.com/plotly/datasets/master/{dataset_name}')\n",
        "df.head(3)"
      ],
      "execution_count": null,
      "outputs": []
    },
    {
      "cell_type": "markdown",
      "metadata": {
        "id": "uBZBT6AdC6VI"
      },
      "source": [
        "## Upper Right Buttons in a Plotly Plot"
      ]
    },
    {
      "cell_type": "markdown",
      "metadata": {
        "id": "caUFz-Jd_PAC"
      },
      "source": [
        "When displaying a Plotly plot, you will notice in the upper right part few buttons, where you can interact\n",
        "  * We will render a Plotly graph in the cell below. The focus will not be in the code or the plot itself, but to perceive the upper right section\n",
        "\n",
        "* The dataset shown here holds records for waiter tips, based on day of the week, day time, total bill, gender, if it is a smoker table or not, and how many people were in the table."
      ]
    },
    {
      "cell_type": "code",
      "metadata": {
        "id": "_9k3MiTnC6c1"
      },
      "source": [
        "df = px.data.tips()\n",
        "fig = px.scatter(data_frame=df, x=\"total_bill\", y='tip')\n",
        "fig.show()"
      ],
      "execution_count": null,
      "outputs": []
    },
    {
      "cell_type": "markdown",
      "metadata": {
        "id": "gvwTBueNABy5"
      },
      "source": [
        "Hover over the top right corner of the plot and you will notice these buttons. Explore the options, so you can become familiar with:  \n",
        "* Download the plot as PNG, zooming, panning, select the plot in box or lasso mode, autoscale and reset axes.\n"
      ]
    },
    {
      "cell_type": "markdown",
      "metadata": {
        "id": "WX77K1i9APU2"
      },
      "source": [
        "![image.png](data:image/png;base64,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)"
      ]
    },
    {
      "cell_type": "markdown",
      "metadata": {
        "id": "-BRRuApzBT-B"
      },
      "source": [
        "* An alternative way to **zoom** in is to click and maintain the left mouse pointer, drag over the area you want and release. \n",
        "* To switch back the zoom, just double click anywhere in the plot\n",
        "  * Try it out in the previous plot"
      ]
    },
    {
      "cell_type": "markdown",
      "metadata": {
        "id": "5NIJCnGlCgRo"
      },
      "source": [
        "![image.png](data:image/png;base64,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)"
      ]
    },
    {
      "cell_type": "markdown",
      "metadata": {
        "id": "7k36q6t-wBDU"
      },
      "source": [
        "## Plotly Figure"
      ]
    },
    {
      "cell_type": "markdown",
      "metadata": {
        "id": "_FE24QeSvX6H"
      },
      "source": [
        "* At a basic level, a **Figure in Plotly** can be represented as dictionaries and displayed using functions from the `plotly.io` module. \n",
        "  * The **dictionary below describes** a Figure. It contains a scatter plot and a title."
      ]
    },
    {
      "cell_type": "code",
      "metadata": {
        "id": "rai5XdWPu3Sa"
      },
      "source": [
        "fig = dict({\n",
        "    \"data\": [{\"type\": \"scatter\",\n",
        "              \"x\": [\"a\",\"b\",\"c\"],\n",
        "              \"y\": [1,3,2]}],\n",
        "    \"layout\": {\"title\": {\"text\": \"sample figure\"}}\n",
        "})\n",
        "\n",
        "fig"
      ],
      "execution_count": null,
      "outputs": []
    },
    {
      "cell_type": "markdown",
      "metadata": {
        "id": "QE1IqGA-LKA_"
      },
      "source": [
        "* We import a function called `pio` just to plot the dictionary above:"
      ]
    },
    {
      "cell_type": "code",
      "metadata": {
        "id": "7EaLqni9LEoh"
      },
      "source": [
        "import plotly.io as pio\n",
        "pio.show(fig)"
      ],
      "execution_count": null,
      "outputs": []
    },
    {
      "cell_type": "markdown",
      "metadata": {
        "id": "YsaEOqtfLS96"
      },
      "source": [
        "* Naturally, in practical terms, we do not plot our data using the method above. \n",
        "  * The **purpose** is to see, at least once in your Plotly experience, to have a glimpse under the hood.\n",
        "\n",
        "* The code example below uses **Plotly Express** to create the same plot.\n",
        "  * We will not get into the specifics of the code, but you may feel **the syntax is clear and intuitive**\n",
        "  * To display a plot, you will use the method `.show()`"
      ]
    },
    {
      "cell_type": "code",
      "metadata": {
        "id": "eTpY4MG4uEd8"
      },
      "source": [
        "fig = px.line(x=[\"a\",\"b\",\"c\"], y=[1,3,2], title=\"sample figure\")\n",
        "fig.show()"
      ],
      "execution_count": null,
      "outputs": []
    },
    {
      "cell_type": "markdown",
      "metadata": {
        "id": "R5AGtbGTLyNJ"
      },
      "source": [
        "* You can `print()` the `fig` to inspect the content:"
      ]
    },
    {
      "cell_type": "code",
      "metadata": {
        "id": "gW1yT656LyUC"
      },
      "source": [
        "print(fig)"
      ],
      "execution_count": null,
      "outputs": []
    },
    {
      "cell_type": "markdown",
      "metadata": {
        "id": "MBqSsOiOwVOM"
      },
      "source": [
        "# Unit 02 - Plotly Plots: Part 01"
      ]
    },
    {
      "cell_type": "markdown",
      "metadata": {
        "id": "F4q5PaYJFJ13"
      },
      "source": [
        "## Line Plot"
      ]
    },
    {
      "cell_type": "markdown",
      "metadata": {
        "id": "eC1EOObxWZ4S"
      },
      "source": [
        "Consider the following dataset\n",
        "* It has records on population, Gross Domestic Product, life expectancy for more than 140 countries. Each row represents a country on a given year"
      ]
    },
    {
      "cell_type": "code",
      "metadata": {
        "id": "G4pE0HhoDQtI"
      },
      "source": [
        "df = px.data.gapminder().query(\"country=='Canada'\")\n",
        "df.head(3)"
      ],
      "execution_count": null,
      "outputs": []
    },
    {
      "cell_type": "code",
      "metadata": {
        "id": "z2q0f9YYd9LI"
      },
      "source": [
        "fig = px.line(df, x=\"year\", y=\"lifeExp\", title='Life expectancy in Canada')\n",
        "fig.show()"
      ],
      "execution_count": null,
      "outputs": []
    },
    {
      "cell_type": "markdown",
      "metadata": {
        "id": "46srnNU_DfrW"
      },
      "source": [
        "* color"
      ]
    },
    {
      "cell_type": "code",
      "metadata": {
        "id": "L-PVUfTSDivC"
      },
      "source": [
        "df = px.data.gapminder().query(\"continent=='Oceania'\")\n",
        "df.head(3)"
      ],
      "execution_count": null,
      "outputs": []
    },
    {
      "cell_type": "markdown",
      "metadata": {
        "id": "liCjhPRRG5WR"
      },
      "source": [
        "* note in the legend, you can click in a given country to activate/deactivate it in the plot. The plot is updated automatically when you do it. This is a practical benefit of an interactive graph"
      ]
    },
    {
      "cell_type": "code",
      "metadata": {
        "id": "CZBoIwupeAwO"
      },
      "source": [
        "fig = px.line(df, x=\"year\", y=\"lifeExp\", color='country')\n",
        "fig.show()"
      ],
      "execution_count": null,
      "outputs": []
    },
    {
      "cell_type": "markdown",
      "metadata": {
        "id": "NhuZQp-3GD7y"
      },
      "source": [
        "* facet by column and row"
      ]
    },
    {
      "cell_type": "code",
      "metadata": {
        "id": "1jGub_SnDxRj"
      },
      "source": [
        "df = px.data.gapminder().query(\"continent in ['Oceania','Americas']\")\n",
        "df.head(3)"
      ],
      "execution_count": null,
      "outputs": []
    },
    {
      "cell_type": "code",
      "metadata": {
        "id": "91oUX12mD1WX"
      },
      "source": [
        "fig = px.line(df, x=\"year\", y=\"lifeExp\", color='country', facet_col ='continent')\n",
        "fig.show()"
      ],
      "execution_count": null,
      "outputs": []
    },
    {
      "cell_type": "code",
      "metadata": {
        "id": "OVTVwFfGEcR0"
      },
      "source": [
        "fig = px.line(df, x=\"year\", y=\"lifeExp\", color='country', facet_row ='continent')\n",
        "fig.show()"
      ],
      "execution_count": null,
      "outputs": []
    },
    {
      "cell_type": "markdown",
      "metadata": {
        "id": "BdBjiTHzGIKY"
      },
      "source": [
        "* hover name and data\n",
        "* hover_name `iso_alpha` appears in bold in the hover tooltip.\n",
        "* hover_data `'pop and gdpPercap'` values appear in the bottom as extra data in the hover tooltip"
      ]
    },
    {
      "cell_type": "code",
      "metadata": {
        "id": "Vu9qjOKlGJUY"
      },
      "source": [
        "fig = px.line(df, x=\"year\", y=\"lifeExp\", color='country', facet_col='continent',\n",
        "              hover_name='iso_alpha',\n",
        "              hover_data=['pop','gdpPercap'])\n",
        "fig.show()\n",
        "\n",
        "              "
      ],
      "execution_count": null,
      "outputs": []
    },
    {
      "cell_type": "markdown",
      "metadata": {
        "id": "qMRYwqPygQ58"
      },
      "source": [
        "---"
      ]
    },
    {
      "cell_type": "markdown",
      "metadata": {
        "id": "IpwLy7GygQ3K"
      },
      "source": [
        "You can add a range slider when visualizing time series in a line plot\n",
        "\n",
        "Consider the dataset loaded from Plotly dataset at GitHub"
      ]
    },
    {
      "cell_type": "code",
      "metadata": {
        "id": "Q511J0-cgcOO"
      },
      "source": [
        "df = pd.read_csv('https://raw.githubusercontent.com/plotly/datasets/master/finance-charts-apple.csv')\n",
        "df.head(3)"
      ],
      "execution_count": null,
      "outputs": []
    },
    {
      "cell_type": "markdown",
      "metadata": {
        "id": "OXY7tCZKguU2"
      },
      "source": [
        "You will create the line plot as usual and update the x axis with `rangeslider_visible=True`"
      ]
    },
    {
      "cell_type": "code",
      "metadata": {
        "id": "n5gfKJFegTv3"
      },
      "source": [
        "fig = px.line(df, x='Date', y='AAPL.High', title='Time Series with Rangeslider')\n",
        "fig.update_xaxes(rangeslider_visible=True) ####### add range slider for time series data\n",
        "fig.show()"
      ],
      "execution_count": null,
      "outputs": []
    },
    {
      "cell_type": "markdown",
      "metadata": {
        "id": "GhYaaK3hIPTG"
      },
      "source": [
        "Note you can drag and move the \"handles\" circled in red in the image below. \n",
        "* That is the range slider when you are seeing time series data in a line plot"
      ]
    },
    {
      "cell_type": "markdown",
      "metadata": {
        "id": "6AierZxuINpu"
      },
      "source": [
        "![image.png](data:image/png;base64,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)"
      ]
    },
    {
      "cell_type": "markdown",
      "metadata": {
        "id": "0OREN3XugCzb"
      },
      "source": [
        "## Area Plot"
      ]
    },
    {
      "cell_type": "markdown",
      "metadata": {
        "id": "z06h02fEIuLo"
      },
      "source": [
        "You can visualize time series data with an area plot, which can be considered a type of line plot, but filled with a color to facilitate visualization"
      ]
    },
    {
      "cell_type": "markdown",
      "metadata": {
        "id": "54fobnsvIrWA"
      },
      "source": [
        "Consider the dataset below\n",
        "* It has records from stock price from multiple technology companies from begining of 2018 until end of 2019. "
      ]
    },
    {
      "cell_type": "code",
      "metadata": {
        "id": "zVJYtklcIlwY"
      },
      "source": [
        "df = px.data.stocks()\n",
        "df.head(3)"
      ],
      "execution_count": null,
      "outputs": []
    },
    {
      "cell_type": "markdown",
      "metadata": {
        "id": "ksnS3WIxLHA9"
      },
      "source": [
        "Note the data is in wide format. We will convert to long format"
      ]
    },
    {
      "cell_type": "code",
      "metadata": {
        "id": "8wtKJi5wKd5I"
      },
      "source": [
        "df = (pd.melt(frame=df, var_name='Company', value_name='Price', \n",
        "             value_vars=['GOOG', 'AAPL', 'AMZN', 'FB', 'NFLX', 'MSFT'],\n",
        "             id_vars='date')\n",
        "    )\n",
        "\n",
        "df.head(3)"
      ],
      "execution_count": null,
      "outputs": []
    },
    {
      "cell_type": "markdown",
      "metadata": {
        "id": "sSwoLtveLoiV"
      },
      "source": [
        "Note the plot is stacked, meaning for each it value in x, the set of y's are compounded, or summed.\n",
        "We are not interested in that since we want to see separately the variation of each company"
      ]
    },
    {
      "cell_type": "code",
      "metadata": {
        "id": "WZSKlcGfgDon"
      },
      "source": [
        "fig = px.area(df,x='date', y='Price', color='Company')\n",
        "fig.show()"
      ],
      "execution_count": null,
      "outputs": []
    },
    {
      "cell_type": "markdown",
      "metadata": {
        "id": "3_PJy0OuMCxF"
      },
      "source": [
        "* we will facet them to reach the effect we want. we also considered the argument facet_col_wrap"
      ]
    },
    {
      "cell_type": "code",
      "metadata": {
        "id": "I54faNQNJcHm"
      },
      "source": [
        "fig = px.area(df,x='date',y='Price', color='Company',\n",
        "              facet_col=\"Company\", facet_col_wrap=2)\n",
        "fig.show()\n"
      ],
      "execution_count": null,
      "outputs": []
    },
    {
      "cell_type": "markdown",
      "metadata": {
        "id": "danQFIFHMTGY"
      },
      "source": [
        "---"
      ]
    },
    {
      "cell_type": "markdown",
      "metadata": {
        "id": "A8YlCEaoMUBt"
      },
      "source": [
        "Let's see an example where it would be interesting to have stacked data"
      ]
    },
    {
      "cell_type": "markdown",
      "metadata": {
        "id": "KnfEFRAuMcRb"
      },
      "source": [
        "Consider the following dataset\n",
        "* It has records on population, Gross Domestic Product, life expectancy for more than 140 countries. Each row represents a country on a given year"
      ]
    },
    {
      "cell_type": "code",
      "metadata": {
        "id": "59vjSb4NMcRb"
      },
      "source": [
        "df = px.data.gapminder().query(\"continent == 'Oceania'\")\n",
        "df.head(3)"
      ],
      "execution_count": null,
      "outputs": []
    },
    {
      "cell_type": "code",
      "metadata": {
        "id": "GjzQ6ikRMpkj"
      },
      "source": [
        "fig = px.area(df,x='year',y='pop', color='country')\n",
        "fig.show()"
      ],
      "execution_count": null,
      "outputs": []
    },
    {
      "cell_type": "markdown",
      "metadata": {
        "id": "XTgdVHpMOVdR"
      },
      "source": [
        "We had to be aware when using stacked area plot. The example above had 2 countries. When we have more countries, 2 concerns raise: coloring and lines being cluttered\n",
        "\n",
        "We will subset the countries from Americas continent"
      ]
    },
    {
      "cell_type": "code",
      "metadata": {
        "id": "b_eXwbYTNJRd"
      },
      "source": [
        "df = px.data.gapminder().query(\"continent == 'Americas'\")\n",
        "df.head(3)"
      ],
      "execution_count": null,
      "outputs": []
    },
    {
      "cell_type": "markdown",
      "metadata": {
        "id": "m2hxMd2UOsq1"
      },
      "source": [
        "And will use the same code from the previous examples. You will note that:\n",
        "* The colors started to repeat - note that Brazil, United States and Haiti have same green color\n",
        "* Lines are kind of cluttered, since there could be a small difference from one country to another"
      ]
    },
    {
      "cell_type": "code",
      "metadata": {
        "id": "86alew-bOp_a"
      },
      "source": [
        "fig = px.area(df,x='year',y='pop', color='country')\n",
        "fig.show()"
      ],
      "execution_count": null,
      "outputs": []
    },
    {
      "cell_type": "markdown",
      "metadata": {
        "id": "mi2s3FvFPHXa"
      },
      "source": [
        "* The color aspect can be managed with `color_discrete_sequence` argument. You can check the possible arguments with the command `px.colors.qualitative.swatches()`"
      ]
    },
    {
      "cell_type": "code",
      "metadata": {
        "id": "M_XdarMnhjIN"
      },
      "source": [
        "px.colors.qualitative.swatches()"
      ],
      "execution_count": null,
      "outputs": []
    },
    {
      "cell_type": "markdown",
      "metadata": {
        "id": "1LhOE9Nlhq3h"
      },
      "source": [
        "You will add the desired choice to `px.colors.qualitative`, for example, if you want Alphabet, it will be `px.colors.qualitative.Alphabet `. We picked Alphabet since there are many countries and Alphabet has a wide range of colors\n",
        "\n",
        "* The graph will improve since there will be no more repeated color, however, \"cluttered\" effect may still remain\n",
        "* the insights here will be to grasp which countries were more representative over the years"
      ]
    },
    {
      "cell_type": "code",
      "metadata": {
        "id": "CwnI2cQJNLzs"
      },
      "source": [
        "fig = px.area(df,x='year',y='pop', color='country',\n",
        "              color_discrete_sequence=px.colors.qualitative.Alphabet,\n",
        "              )\n",
        "fig.show()"
      ],
      "execution_count": null,
      "outputs": []
    },
    {
      "cell_type": "markdown",
      "metadata": {
        "id": "fZeDXEouinXd"
      },
      "source": [
        "* Naturally you can set `color_discrete_sequence` argument for other plot types where you are coloring the plot with a categorical variable"
      ]
    },
    {
      "cell_type": "markdown",
      "metadata": {
        "id": "oRlRLek4FeH0"
      },
      "source": [
        "## Histogram"
      ]
    },
    {
      "cell_type": "markdown",
      "metadata": {
        "id": "vVJ7Yb5Er7MQ"
      },
      "source": [
        "Consider the dataset below\n",
        "* It holds records for waiter tips, based on day of the week, day time, total bill, gender, if it is a smoker table or not, and how many people were in the table."
      ]
    },
    {
      "cell_type": "code",
      "metadata": {
        "id": "A-FlCsNqP-K7"
      },
      "source": [
        "df = px.data.tips()\n",
        "df.head()"
      ],
      "execution_count": null,
      "outputs": []
    },
    {
      "cell_type": "markdown",
      "metadata": {
        "id": "pee4iBbtsDVK"
      },
      "source": [
        "* You can create a histogram using..."
      ]
    },
    {
      "cell_type": "code",
      "metadata": {
        "id": "ZmhHwfn0YeyF"
      },
      "source": [
        "fig = px.histogram(df, x=\"tip\")\n",
        "fig.show()"
      ],
      "execution_count": null,
      "outputs": []
    },
    {
      "cell_type": "markdown",
      "metadata": {
        "id": "0RIVwbM2furZ"
      },
      "source": [
        "* Histogram with Marginal Boxplot"
      ]
    },
    {
      "cell_type": "code",
      "metadata": {
        "id": "sJCYb1RFfyIw"
      },
      "source": [
        "fig = px.histogram(df, x=\"tip\", marginal=\"box\")\n",
        "fig.show()"
      ],
      "execution_count": null,
      "outputs": []
    },
    {
      "cell_type": "markdown",
      "metadata": {
        "id": "L9uiN2qnsUFV"
      },
      "source": [
        "* add color"
      ]
    },
    {
      "cell_type": "code",
      "metadata": {
        "id": "PMfbMTmisUL4"
      },
      "source": [
        "fig = px.histogram(df, x=\"tip\", color=\"sex\", marginal=\"box\")\n",
        "fig.show()"
      ],
      "execution_count": null,
      "outputs": []
    },
    {
      "cell_type": "markdown",
      "metadata": {
        "id": "EkehxenutGbd"
      },
      "source": [
        "* facet"
      ]
    },
    {
      "cell_type": "code",
      "metadata": {
        "id": "2eZDztVWtErd"
      },
      "source": [
        "fig = px.histogram(df, x=\"tip\", color=\"sex\", marginal=\"box\", facet_col='day', facet_row='time')\n",
        "fig.show()"
      ],
      "execution_count": null,
      "outputs": []
    },
    {
      "cell_type": "markdown",
      "metadata": {
        "id": "tcMtvTIctniA"
      },
      "source": [
        "## Boxplot"
      ]
    },
    {
      "cell_type": "code",
      "metadata": {
        "id": "amg0g69IcXOX"
      },
      "source": [
        "fig = px.box(df, x=\"day\", y=\"tip\")\n",
        "fig.show()"
      ],
      "execution_count": null,
      "outputs": []
    },
    {
      "cell_type": "code",
      "metadata": {
        "id": "9333_L1ecKW6"
      },
      "source": [
        "fig = px.box(df, x=\"day\", y=\"tip\", color=\"smoker\")\n",
        "fig.show()"
      ],
      "execution_count": null,
      "outputs": []
    },
    {
      "cell_type": "markdown",
      "metadata": {
        "id": "fIVizMVhcMnp"
      },
      "source": [
        "* Adding Distribution plot\n",
        "  * It helps to give you a better sense of distribution"
      ]
    },
    {
      "cell_type": "code",
      "metadata": {
        "id": "klZCFTQAtOKW"
      },
      "source": [
        "fig = px.box(df, x=\"day\", y=\"total_bill\", points='all')\n",
        "fig.show()"
      ],
      "execution_count": null,
      "outputs": []
    },
    {
      "cell_type": "markdown",
      "metadata": {
        "id": "BwAAtt7ptdAL"
      },
      "source": [
        "* facet"
      ]
    },
    {
      "cell_type": "code",
      "metadata": {
        "id": "kmdd8Z61teiJ"
      },
      "source": [
        " fig = px.box(df, x=\"day\", y=\"total_bill\", points='all', facet_col='sex')\n",
        "fig.show()"
      ],
      "execution_count": null,
      "outputs": []
    },
    {
      "cell_type": "markdown",
      "metadata": {
        "id": "932VSfZ4C1hr"
      },
      "source": [
        "# Unit 03 - Plotly Plots: Part 02"
      ]
    },
    {
      "cell_type": "markdown",
      "metadata": {
        "id": "IS3jcKtLEsEj"
      },
      "source": [
        "## Bar Plot"
      ]
    },
    {
      "cell_type": "markdown",
      "metadata": {
        "id": "i4NzPHbPtWOK"
      },
      "source": [
        "Consider the dataset below\n",
        "* It has records on population, Gross Domestic Product, life expectancy for more than 140 countries. Each row represents a country on a given year"
      ]
    },
    {
      "cell_type": "code",
      "metadata": {
        "id": "nM2BNzTjEKed"
      },
      "source": [
        "df = px.data.gapminder().query(\"country == 'Canada'\")\n",
        "df"
      ],
      "execution_count": null,
      "outputs": []
    },
    {
      "cell_type": "code",
      "metadata": {
        "id": "yPdUqQIReMLT"
      },
      "source": [
        "fig = px.bar(df, x='year', y='pop')\n",
        "fig.show()"
      ],
      "execution_count": null,
      "outputs": []
    },
    {
      "cell_type": "markdown",
      "metadata": {
        "id": "d6twRPuySwXb"
      },
      "source": [
        "Consider another dataset.\n",
        "* It shows records of medals for sports for given countries"
      ]
    },
    {
      "cell_type": "code",
      "metadata": {
        "id": "DgaYvWN2tfSl"
      },
      "source": [
        "df = px.data.medals_long()\n",
        "df"
      ],
      "execution_count": null,
      "outputs": []
    },
    {
      "cell_type": "code",
      "metadata": {
        "id": "G_ywn-IbexnX"
      },
      "source": [
        "ifig = px.bar(df, x=\"nation\", y=\"count\", color=\"medal\", title=\"Long-Form Input\")\n",
        "fig.show()"
      ],
      "execution_count": null,
      "outputs": []
    },
    {
      "cell_type": "markdown",
      "metadata": {
        "id": "xsax6GBkts1e"
      },
      "source": [
        "The data considered in the 2 examples above were like a \"summary\", and you didn't have repeated rows for the same combination of variables. \n",
        "* We will study more cases now"
      ]
    },
    {
      "cell_type": "markdown",
      "metadata": {
        "id": "H2ISo2UgtpAt"
      },
      "source": [
        "---"
      ]
    },
    {
      "cell_type": "markdown",
      "metadata": {
        "id": "lG1j4BmLTpZr"
      },
      "source": [
        "Consider the dataset below\n",
        "* It holds records for waiter tips, based on day of the week, day time, total bill, gender, if it is a smoker table or not, and how many people were in the table"
      ]
    },
    {
      "cell_type": "code",
      "metadata": {
        "id": "uokGWYATeZwY"
      },
      "source": [
        "df = px.data.tips()\n",
        "df.head(3)"
      ],
      "execution_count": null,
      "outputs": []
    },
    {
      "cell_type": "markdown",
      "metadata": {
        "id": "NMa8SZNdS2Kd"
      },
      "source": [
        "Note that several rows share the same value of x (in this case `sex` variable: female or male). The rectangles are stacked on top of one another by default."
      ]
    },
    {
      "cell_type": "code",
      "metadata": {
        "id": "RB9_xmlITr8O"
      },
      "source": [
        "fig = px.bar(df, x=\"sex\")\n",
        "fig.show()"
      ],
      "execution_count": null,
      "outputs": []
    },
    {
      "cell_type": "markdown",
      "metadata": {
        "id": "87b8q6riUfj2"
      },
      "source": [
        "If you prefer, you could process the data before plotting in this case, with `value_counts()`, since you are using only one variable"
      ]
    },
    {
      "cell_type": "code",
      "metadata": {
        "id": "AfeVUIvgUmBL"
      },
      "source": [
        "df_processed = df['sex'].value_counts().to_frame()\n",
        "df_processed"
      ],
      "execution_count": null,
      "outputs": []
    },
    {
      "cell_type": "code",
      "metadata": {
        "id": "ztuqOA9FFDzo"
      },
      "source": [
        "fig = px.bar(data_frame=df_processed, y=\"sex\")\n",
        "fig.show()"
      ],
      "execution_count": null,
      "outputs": []
    },
    {
      "cell_type": "markdown",
      "metadata": {
        "id": "tMvlSW9BV_EI"
      },
      "source": [
        "---"
      ]
    },
    {
      "cell_type": "markdown",
      "metadata": {
        "id": "RdYoKGmGVZxB"
      },
      "source": [
        "In both previous cases, you are counting how many female and male you have in the dataset.\n",
        "* However, you may be interested to count the levels of `tip` (numerical variable) per `sex`. You can add the argument `y` and set to `tip`"
      ]
    },
    {
      "cell_type": "code",
      "metadata": {
        "id": "-06KnKG4VrkZ"
      },
      "source": [
        "fig = px.bar(df, x=\"sex\", y='tip')\n",
        "fig.show()"
      ],
      "execution_count": null,
      "outputs": []
    },
    {
      "cell_type": "markdown",
      "metadata": {
        "id": "ljfycBArWhrZ"
      },
      "source": [
        "If you prefer, you could process the data before plotting in this case, with `groupby()` and `.sum()` and `.reset_index()`, since you have 2 variables"
      ]
    },
    {
      "cell_type": "code",
      "metadata": {
        "id": "pCuQe9VEWpk0"
      },
      "source": [
        "df_processed = df[['sex','tip']].groupby('sex').sum().reset_index()\n",
        "df_processed"
      ],
      "execution_count": null,
      "outputs": []
    },
    {
      "cell_type": "code",
      "metadata": {
        "id": "idvb8LLqWwyb"
      },
      "source": [
        "fig = px.bar(data_frame=df_processed, x=\"sex\", y='tip')\n",
        "fig.show()"
      ],
      "execution_count": null,
      "outputs": []
    },
    {
      "cell_type": "markdown",
      "metadata": {
        "id": "PYHQSCkFWg1k"
      },
      "source": [
        "---"
      ]
    },
    {
      "cell_type": "markdown",
      "metadata": {
        "id": "8GrDBBu_Timj"
      },
      "source": [
        "You may be interesed to color your bar plot by another categorical variable. You can do that with the `color` argument\n",
        "* The barmode sets with you and to stack them (`stack`), or leave side by side (`group`)"
      ]
    },
    {
      "cell_type": "code",
      "metadata": {
        "id": "V2p4GjNEEtPq"
      },
      "source": [
        "fig = px.bar(df, x=\"sex\",  color=\"smoker\", barmode=\"stack\")\n",
        "fig.show()"
      ],
      "execution_count": null,
      "outputs": []
    },
    {
      "cell_type": "markdown",
      "metadata": {
        "id": "ePVl1ESxXecN"
      },
      "source": [
        "The example below has the same code from prevous cell, but changes `barmode='group'`"
      ]
    },
    {
      "cell_type": "code",
      "metadata": {
        "id": "_Z9gsCO4T9P5"
      },
      "source": [
        "fig = px.bar(df, x=\"sex\", color=\"smoker\", barmode=\"group\")\n",
        "fig.show()"
      ],
      "execution_count": null,
      "outputs": []
    },
    {
      "cell_type": "markdown",
      "metadata": {
        "id": "13Nh4dXBYq5X"
      },
      "source": [
        "---"
      ]
    },
    {
      "cell_type": "markdown",
      "metadata": {
        "id": "pfOH2Pj9Uidz"
      },
      "source": [
        "* Bar plot with facets"
      ]
    },
    {
      "cell_type": "code",
      "metadata": {
        "id": "V_2GNll_ExXQ"
      },
      "source": [
        "fig = px.bar(data_frame=df, x=\"sex\", y=\"total_bill\", color=\"smoker\", barmode=\"group\",\n",
        "             facet_row=\"time\", facet_col=\"day\")\n",
        "fig.show()"
      ],
      "execution_count": null,
      "outputs": []
    },
    {
      "cell_type": "markdown",
      "metadata": {
        "id": "qi8wjy42Y2VA"
      },
      "source": [
        "You will notice the days of the week are not ordered in a conventional way.\n",
        "* You can manually arrange the orders for your categorical variables in your plot with `category_orders`, just parse a dictionary, where the `key` is the variable name and the `values` are the order you want."
      ]
    },
    {
      "cell_type": "code",
      "metadata": {
        "id": "pSGVuVPbYxO9"
      },
      "source": [
        "fig = px.bar(data_frame=df, x=\"sex\", y=\"total_bill\", color=\"smoker\", barmode=\"group\",\n",
        "             facet_row=\"time\", facet_col=\"day\",\n",
        "             category_orders={\"day\": [\"Thur\", \"Fri\", \"Sat\", \"Sun\"], \"time\": [\"Lunch\", \"Dinner\"]})\n",
        "\n",
        "fig.show()"
      ],
      "execution_count": null,
      "outputs": []
    },
    {
      "cell_type": "markdown",
      "metadata": {
        "id": "nDJ2c5MhtOxo"
      },
      "source": [
        "## Scatter Plot"
      ]
    },
    {
      "cell_type": "markdown",
      "metadata": {
        "id": "r3VhSsN2FEqu"
      },
      "source": [
        "Consider the following dataset\n",
        "* It contains records of 3 classes of iris plants, with its petal and sepal measurements"
      ]
    },
    {
      "cell_type": "code",
      "metadata": {
        "id": "ZGYJIl3zt_70"
      },
      "source": [
        "df = px.data.iris()\n",
        "df.head()"
      ],
      "execution_count": null,
      "outputs": []
    },
    {
      "cell_type": "markdown",
      "metadata": {
        "id": "SwDm4jsnuDys"
      },
      "source": [
        "scatter plot, colored"
      ]
    },
    {
      "cell_type": "code",
      "metadata": {
        "id": "zd2pShd9EoI3"
      },
      "source": [
        "fig = px.scatter(df, x=\"sepal_width\", y=\"sepal_length\", color=\"species\")\n",
        "fig.show()"
      ],
      "execution_count": null,
      "outputs": []
    },
    {
      "cell_type": "markdown",
      "metadata": {
        "id": "xTYloHSYTMde"
      },
      "source": [
        "* Scatter Plot with Marginal Histograms"
      ]
    },
    {
      "cell_type": "code",
      "metadata": {
        "id": "RzORlGvuEmIE"
      },
      "source": [
        "fig = px.scatter(df, x=\"sepal_width\", y=\"sepal_length\", color=\"species\",\n",
        "                 marginal_y=\"box\", marginal_x=\"box\")\n",
        "fig.show()"
      ],
      "execution_count": null,
      "outputs": []
    },
    {
      "cell_type": "markdown",
      "metadata": {
        "id": "UY4yR81Xutwi"
      },
      "source": [
        "add trend line"
      ]
    },
    {
      "cell_type": "code",
      "metadata": {
        "id": "MG_wiYeCuvOm"
      },
      "source": [
        " fig = px.scatter(df, x=\"sepal_width\", y=\"sepal_length\", color=\"species\",\n",
        "                 marginal_y=\"box\", marginal_x=\"box\", trendline=\"ols\") # 'ols', 'lowess'\n",
        "fig.show()\n"
      ],
      "execution_count": null,
      "outputs": []
    },
    {
      "cell_type": "markdown",
      "metadata": {
        "id": "9zGOmrbwu6m6"
      },
      "source": [
        "Consider the dataset\n",
        "* It has records on population, Gross Domestic Product, life expectancy for more than 140 countries. Each row represents a country on a given year"
      ]
    },
    {
      "cell_type": "code",
      "metadata": {
        "id": "nnRIOzt3u9Mb"
      },
      "source": [
        "df = px.data.gapminder()\n",
        "df.head()"
      ],
      "execution_count": null,
      "outputs": []
    },
    {
      "cell_type": "markdown",
      "metadata": {
        "id": "DTSdFkv4TVwR"
      },
      "source": [
        "* Scatter plot with Animation\n",
        "\n",
        "* `animation_frame` assign marks to animation frames"
      ]
    },
    {
      "cell_type": "code",
      "metadata": {
        "id": "dSlJbWKatRCP"
      },
      "source": [
        "fig = px.scatter(df, x=\"gdpPercap\", y=\"lifeExp\", \n",
        "                 animation_frame=\"year\", \n",
        "                 size=\"pop\",size_max=55, \n",
        "                 color=\"continent\", hover_name=\"country\",\n",
        "                 log_x=True, range_x=[100,100000], range_y=[25,90]\n",
        "            )\n",
        "\n",
        "fig.show()"
      ],
      "execution_count": null,
      "outputs": []
    },
    {
      "cell_type": "markdown",
      "metadata": {
        "id": "AcHWBNtYTZIX"
      },
      "source": [
        "* Scatter Plot with Animation and Facets"
      ]
    },
    {
      "cell_type": "code",
      "metadata": {
        "id": "p9MXnYFQFD2z"
      },
      "source": [
        "fig = px.scatter(df, x=\"gdpPercap\", y=\"lifeExp\", animation_frame=\"year\",\n",
        "           size=\"pop\", color=\"continent\", hover_name=\"country\", facet_col=\"continent\",\n",
        "           log_x=True, size_max=30, range_x=[100,100000], range_y=[25,90])\n",
        "fig.show()"
      ],
      "execution_count": null,
      "outputs": []
    },
    {
      "cell_type": "markdown",
      "metadata": {
        "id": "aM2UQ_-RTPoh"
      },
      "source": [
        "---"
      ]
    },
    {
      "cell_type": "markdown",
      "metadata": {
        "id": "F534A8HqTQWR"
      },
      "source": [
        "* In fact you can animate almost all of the plots we are presenting in this lesson: histograms, boxplots, bar plot, scatter plot, maps etc. It is a matter to have your data in a good shape for adding animation\n",
        "  * To validate, just look for `animation_frame` argument in the studied functions\n",
        "* Typically you will be interested to animate your data when:\n",
        "  * there is a time/date component, like year, month, day, weekday etc. \n",
        "  * Or when you have a categorical variable that you are interested to check the behaviour across its levels in a animated way"
      ]
    },
    {
      "cell_type": "markdown",
      "metadata": {
        "id": "iL0eTcwdtZ3G"
      },
      "source": [
        "## Scatter Plot 3D"
      ]
    },
    {
      "cell_type": "markdown",
      "metadata": {
        "id": "vY6YaWinxA6T"
      },
      "source": [
        "Consider the dataset\n",
        "* It has records for 3 different species of penguins, collected from 3 islands in the Palmer Archipelago, Antarctica"
      ]
    },
    {
      "cell_type": "code",
      "metadata": {
        "id": "VLz12LO4xNOS"
      },
      "source": [
        "df = sns.load_dataset('penguins')\n",
        "df.head()"
      ],
      "execution_count": null,
      "outputs": []
    },
    {
      "cell_type": "markdown",
      "metadata": {
        "id": "kKNAOCbcPHrR"
      },
      "source": [
        "We are interested to create a 3D scatter plot ....\n",
        "\n",
        "\n",
        "Notice that the color variable is categorical in this example. That will create a discrete color sequence\n",
        "* As we studied in a previous notebook, the color aspect can be managed with `color_discrete_sequence` argument. You can check the possible arguments with the command `px.colors.qualitative.swatches()`"
      ]
    },
    {
      "cell_type": "code",
      "metadata": {
        "id": "khHxrwxbi70w"
      },
      "source": [
        "px.colors.qualitative.swatches()"
      ],
      "execution_count": null,
      "outputs": []
    },
    {
      "cell_type": "markdown",
      "metadata": {
        "id": "CeU2mztfi70w"
      },
      "source": [
        "We create a 3D scatter plot with ...."
      ]
    },
    {
      "cell_type": "code",
      "metadata": {
        "id": "lMU8KvGHtcCf"
      },
      "source": [
        "fig = px.scatter_3d(df, x=\"bill_length_mm\", y=\"bill_depth_mm\", z=\"flipper_length_mm\",\n",
        "                    color='species',\n",
        "                    color_discrete_sequence=px.colors.qualitative.Vivid)\n",
        "fig.show()"
      ],
      "execution_count": null,
      "outputs": []
    },
    {
      "cell_type": "markdown",
      "metadata": {
        "id": "VdQmlBHPjUcn"
      },
      "source": [
        "---"
      ]
    },
    {
      "cell_type": "markdown",
      "metadata": {
        "id": "ASWxHinKPv9c"
      },
      "source": [
        "Consider another dataset now\n",
        "* It contains records of 3 classes of iris plants, with its petal and sepal measurements"
      ]
    },
    {
      "cell_type": "code",
      "metadata": {
        "id": "pGmi6cLsP4Tn"
      },
      "source": [
        "df = px.data.iris()\n",
        "df.head()"
      ],
      "execution_count": null,
      "outputs": []
    },
    {
      "cell_type": "markdown",
      "metadata": {
        "id": "unyOVKRvP6nf"
      },
      "source": [
        "The use case now is different, we will use a continious variable to color the plot: `petal_length` \n",
        "\n",
        "\n",
        "That will create a scale with a range of colors. You can set the colors with `color_continuous_scale` argument \n",
        "* The options for this argument can be found with the command: `px.colors.sequential.swatches() `"
      ]
    },
    {
      "cell_type": "code",
      "metadata": {
        "id": "LYBJjv7IlxHB"
      },
      "source": [
        "px.colors.sequential.swatches()"
      ],
      "execution_count": null,
      "outputs": []
    },
    {
      "cell_type": "markdown",
      "metadata": {
        "id": "oLNgNRprmaI5"
      },
      "source": [
        "We picked 'ice'"
      ]
    },
    {
      "cell_type": "code",
      "metadata": {
        "id": "28i8P-3Vh-x3"
      },
      "source": [
        "fig = px.scatter_3d(df, x='sepal_length', y='sepal_width', z='petal_width',\n",
        "                    color='petal_length',color_continuous_scale='ice')\n",
        "fig.show()"
      ],
      "execution_count": null,
      "outputs": []
    },
    {
      "cell_type": "markdown",
      "metadata": {
        "id": "67fBYitHE0jn"
      },
      "source": [
        "## Scatter Matrix"
      ]
    },
    {
      "cell_type": "markdown",
      "metadata": {
        "id": "y-aBQ9SUUq8o"
      },
      "source": [
        "* Scatter Matrix (similar to Pairplot from Seaborn)"
      ]
    },
    {
      "cell_type": "code",
      "metadata": {
        "id": "Lr4981JOEzZs"
      },
      "source": [
        "fig = px.scatter_matrix(data_frame=df,\n",
        "                        dimensions=[\"sepal_width\", \"sepal_length\", \"petal_width\", \"petal_length\"],\n",
        "                        color=\"species\"\n",
        "                        )\n",
        "fig.show()"
      ],
      "execution_count": null,
      "outputs": []
    },
    {
      "cell_type": "markdown",
      "metadata": {
        "id": "M6Rd3ZrTE4dH"
      },
      "source": [
        "## Parallel Plots"
      ]
    },
    {
      "cell_type": "markdown",
      "metadata": {
        "id": "yuGPXrjLV0zz"
      },
      "source": [
        "* In a Parallel Coordinates plot, each observation of the DataFrame is a polyline mark which goes through a set of parallel axes, where each axes is a numerical variable\n",
        "* It is useful when you are interested to reveal patterns only your numerical variables and can easily convert categorical variables to numerical"
      ]
    },
    {
      "cell_type": "markdown",
      "metadata": {
        "id": "ymd44jyaVbvB"
      },
      "source": [
        "Consider the dataset\n",
        "* It has records for 3 different species of penguins, collected from 3 islands in the Palmer Archipelago, Antarctica"
      ]
    },
    {
      "cell_type": "code",
      "metadata": {
        "id": "HbcxdfSuVbvF"
      },
      "source": [
        "df = sns.load_dataset('penguins')\n",
        "df.head(3)"
      ],
      "execution_count": null,
      "outputs": []
    },
    {
      "cell_type": "markdown",
      "metadata": {
        "id": "KW_ylYilXV6N"
      },
      "source": [
        "convert categorical to numerical with `.replace()`"
      ]
    },
    {
      "cell_type": "code",
      "metadata": {
        "id": "jP0LdZhvVvdz"
      },
      "source": [
        "df['species'] = df['species'].replace({'Adelie':0, 'Chinstrap':1, 'Gentoo':2})\n",
        "df['sex'] = df['sex'].replace({'Male':0, 'Female':1})\n",
        "df['island']= df['island'].replace({'Torgersen':0, 'Biscoe':1, 'Dream':2})\n",
        "df.head(3)"
      ],
      "execution_count": null,
      "outputs": []
    },
    {
      "cell_type": "markdown",
      "metadata": {
        "id": "zyTB2CVDky35"
      },
      "source": [
        "Note the plot is colored by `species`, so we are interested to see patterns for species across the variables.\n",
        "* note for `island` 0 (Torgersen), there is only `species` 0 (Adelie)\n",
        "* note higher levels for `flipper_length_mm` appear in `species` 2 (Gentoo)"
      ]
    },
    {
      "cell_type": "code",
      "metadata": {
        "id": "NQVlCGpPVdK7"
      },
      "source": [
        "fig = px.parallel_coordinates(df, color=\"species\")\n",
        "fig.show()"
      ],
      "execution_count": null,
      "outputs": []
    },
    {
      "cell_type": "markdown",
      "metadata": {
        "id": "k8L5hldsnefj"
      },
      "source": [
        "We colored the plot by `species`, which is now a numerical variable. Check the potential colors style to use in this case"
      ]
    },
    {
      "cell_type": "code",
      "metadata": {
        "id": "JiRbcWMwmoce"
      },
      "source": [
        "px.colors.sequential.swatches() "
      ],
      "execution_count": null,
      "outputs": []
    },
    {
      "cell_type": "markdown",
      "metadata": {
        "id": "Q9yoJThYn0JO"
      },
      "source": [
        "* We picked 'viridis' for the color"
      ]
    },
    {
      "cell_type": "code",
      "metadata": {
        "id": "PL3YxQKPn0tP"
      },
      "source": [
        "fig = px.parallel_coordinates(df, color=\"species\", color_continuous_scale='viridis')\n",
        "fig.show()"
      ],
      "execution_count": null,
      "outputs": []
    },
    {
      "cell_type": "markdown",
      "metadata": {
        "id": "haP584C_XT_O"
      },
      "source": [
        "---"
      ]
    },
    {
      "cell_type": "markdown",
      "metadata": {
        "id": "Bc46FgWslYJY"
      },
      "source": [
        "Consider this dataset now\n",
        "* It contains records of 3 classes of iris plants, with its petal and sepal measurements"
      ]
    },
    {
      "cell_type": "code",
      "metadata": {
        "id": "QGrt56_bVBoP"
      },
      "source": [
        "df = px.data.iris()\n",
        "df.head()"
      ],
      "execution_count": null,
      "outputs": []
    },
    {
      "cell_type": "markdown",
      "metadata": {
        "id": "CX09M-5ulc_Z"
      },
      "source": [
        "* Run the same analysis"
      ]
    },
    {
      "cell_type": "code",
      "metadata": {
        "id": "M_KRkZNgV080"
      },
      "source": [
        "fig = px.parallel_coordinates(df, color=\"species_id\", color_continuous_scale='aggrnyl')\n",
        "fig.show()"
      ],
      "execution_count": null,
      "outputs": []
    },
    {
      "cell_type": "markdown",
      "metadata": {
        "id": "DN2ewk5MojM6"
      },
      "source": [
        "---"
      ]
    },
    {
      "cell_type": "markdown",
      "metadata": {
        "id": "nJ-wGaQCV4rr"
      },
      "source": [
        "If your data has more categorical variables or you are only interested to conduct an analysis with categorical variables, it may be more effective to use `px.parallel_coordinates()`, so you don't have to add the effort of converting from categorical to numerical\n",
        "* The only aspect is that your `color` variable should be numerical. In case this variable is already a number, no additional steps. In case it is a category, you will need to convert it"
      ]
    },
    {
      "cell_type": "code",
      "metadata": {
        "id": "ae0K0yl4pV45"
      },
      "source": [
        "df = sns.load_dataset('penguins')\n",
        "df.head(3)"
      ],
      "execution_count": null,
      "outputs": []
    },
    {
      "cell_type": "code",
      "metadata": {
        "id": "jlX_Vuw0pYK5"
      },
      "source": [
        "df['species'] = df['species'].replace({'Adelie':0, 'Chinstrap':1, 'Gentoo':2})\n",
        "df.head(3)"
      ],
      "execution_count": null,
      "outputs": []
    },
    {
      "cell_type": "markdown",
      "metadata": {
        "id": "ABrC4_tJpdW1"
      },
      "source": [
        "* you will note only categorical variables, except the color variable - `species` -  that was converted to numerical"
      ]
    },
    {
      "cell_type": "code",
      "metadata": {
        "id": "9HMDzpIpE7_Q"
      },
      "source": [
        "fig = px.parallel_categories(df, color=\"species\", color_continuous_scale='viridis')\n",
        "fig.show()"
      ],
      "execution_count": null,
      "outputs": []
    },
    {
      "cell_type": "code",
      "metadata": {
        "id": "tMyqosIJpVFe"
      },
      "source": [
        ""
      ],
      "execution_count": null,
      "outputs": []
    },
    {
      "cell_type": "markdown",
      "metadata": {
        "id": "eQm9PnL8C_hY"
      },
      "source": [
        "# Unit 04 - Plotly Plots: Part 03"
      ]
    },
    {
      "cell_type": "markdown",
      "metadata": {
        "id": "im5Lc6tVtd5C"
      },
      "source": [
        "## Map box"
      ]
    },
    {
      "cell_type": "markdown",
      "metadata": {
        "id": "N5Q_58KyXfdE"
      },
      "source": [
        "Consider the following dataset\n",
        "* It has records for the availability of car-sharing services near the centroid of a zone in Montreal over a month-long period"
      ]
    },
    {
      "cell_type": "code",
      "metadata": {
        "id": "RvMOyg3-XjSd"
      },
      "source": [
        "df = px.data.carshare()\n",
        "df.head()"
      ],
      "execution_count": null,
      "outputs": []
    },
    {
      "cell_type": "markdown",
      "metadata": {
        "id": "-kcKEr1jYZRQ"
      },
      "source": [
        "The color options can be found with the command `px.colors.sequential.swatches()` \n"
      ]
    },
    {
      "cell_type": "code",
      "metadata": {
        "id": "JGhHg4tdtfcQ"
      },
      "source": [
        "fig = px.scatter_mapbox(df, lat=\"centroid_lat\", lon=\"centroid_lon\", color=\"peak_hour\", size=\"car_hours\",\n",
        "                        mapbox_style='open-street-map', #### \n",
        "                        color_continuous_scale=\"plasma\",\n",
        "                        size_max=15, zoom=10)\n",
        "fig.show()"
      ],
      "execution_count": null,
      "outputs": []
    },
    {
      "cell_type": "markdown",
      "metadata": {
        "id": "UiSurw_0FU_-"
      },
      "source": [
        "## Sunburst"
      ]
    },
    {
      "cell_type": "markdown",
      "metadata": {
        "id": "u7cbwXZxXmwh"
      },
      "source": [
        "It shows the relation of Part to Whole\n",
        "* It is useful when you have multiple categories and multiple numerical values. Here you are interested to understand how the interact, and what are their proportions to each other"
      ]
    },
    {
      "cell_type": "markdown",
      "metadata": {
        "id": "l-U9fViBaikO"
      },
      "source": [
        "Consider the dataset\n",
        "* It has records on population, Gross Domestic Product, life expectancy for more than 140 countriesEach row represents a country on a given year"
      ]
    },
    {
      "cell_type": "code",
      "metadata": {
        "id": "tycX3XBwZQD5"
      },
      "source": [
        "df = px.data.gapminder().query(\"year == 2007\")\n",
        "df.head()"
      ],
      "execution_count": null,
      "outputs": []
    },
    {
      "cell_type": "markdown",
      "metadata": {
        "id": "_nMbvJf2aQQB"
      },
      "source": [
        "click in a given continent to drill down. Click it back in the same area to zoom back out"
      ]
    },
    {
      "cell_type": "code",
      "metadata": {
        "id": "fkymbV45FVIB"
      },
      "source": [
        "fig = px.sunburst(df, path=['continent', 'country'], values='pop',\n",
        "                  color='gdpPercap', hover_name='iso_alpha')\n",
        "fig.show()"
      ],
      "execution_count": null,
      "outputs": []
    },
    {
      "cell_type": "markdown",
      "metadata": {
        "id": "pyVZou7uFYzq"
      },
      "source": [
        "## Tree Map"
      ]
    },
    {
      "cell_type": "markdown",
      "metadata": {
        "id": "ALJR6Om8YRLI"
      },
      "source": [
        "A Tree map also shows part to whole, but in a different manner compared to the Sunburst\n",
        "\n",
        "Consider the dataset\n",
        "* It has records on population, Gross Domestic Product, life expectancy for more than 140 countriesEach row represents a country on a given year"
      ]
    },
    {
      "cell_type": "code",
      "metadata": {
        "id": "0dcwuwJZZp_v"
      },
      "source": [
        "df = px.data.gapminder().query(\"year == 2007\")"
      ],
      "execution_count": null,
      "outputs": []
    },
    {
      "cell_type": "code",
      "metadata": {
        "id": "PV1nS0g0FY7x"
      },
      "source": [
        "fig = px.treemap(df, path=[px.Constant('World'), 'continent', 'country'], values='pop',\n",
        "                  color='lifeExp', hover_name='iso_alpha')\n",
        "fig.show()"
      ],
      "execution_count": null,
      "outputs": []
    },
    {
      "cell_type": "markdown",
      "metadata": {
        "id": "ryKZEv65thht"
      },
      "source": [
        "## Waterfall"
      ]
    },
    {
      "cell_type": "markdown",
      "metadata": {
        "id": "p0JMUivDgrT7"
      },
      "source": [
        "* In this particular chart, we are using another module from Plotly, called Plotly Graph Objects, or the common alias, `go`\n",
        "  * Currently Plotly Express doesn't have this capability for Waterfall chart\n",
        "\n",
        "\n",
        "The documentation for Waterfall Charts in Plotly is found [here](https://plotly.com/python/waterfall-charts/) and the documentation for Plotly GraphObjects is found [here](https://plotly.com/python/graph-objects/)\n",
        "\n",
        "\n",
        "---"
      ]
    },
    {
      "cell_type": "markdown",
      "metadata": {
        "id": "EqxyhzGv-Sc3"
      },
      "source": [
        "Imagine if you have your company and are interested to elaborate a waterfall chart displaying your annual Profit and Losses. \n",
        "* Your company has revenue from 4 products. It has costs, expenses and pays tax. \n",
        "\n",
        "Consider the fictitious data below\n",
        "* In this exercise someone from your company prepared the data already in the format below, where the DataFrame index has the report item (like Revenue, Cost, Profit etc) and the column Value holds the amount for a particular item.\n",
        "* `.T` transpose the rows and columns of your DataFrame"
      ]
    },
    {
      "cell_type": "code",
      "metadata": {
        "id": "VUouIzvh7YAW"
      },
      "source": [
        "df = pd.DataFrame({\"Revenue Product 1\": [500],\n",
        "                   \"Revenue Product 2\": [100],\n",
        "                   \"Revenue Product 3\": [600],\n",
        "                   \"Revenue Product 4\": [250],\n",
        "                   \"Net revenue\": [1450], \n",
        "                   \"Fixed Cost\": [-200],\n",
        "                   \"Variable Cost\": [-400],\n",
        "                   \"Trips Expenses\": [-300],\n",
        "                   \"Other expenses\": [-10],\n",
        "                   \"Operating profit\": [540],\n",
        "                   \"Income tax\": [-200],\n",
        "                   \"Net Profit\": [340]},\n",
        "              index=['Value'])\n",
        "\n",
        "df = df.T  # .T transpose the rows and columns\n",
        "df\n"
      ],
      "execution_count": null,
      "outputs": []
    },
    {
      "cell_type": "markdown",
      "metadata": {
        "id": "VurO0a6Q_s8B"
      },
      "source": [
        "Waterfall"
      ]
    },
    {
      "cell_type": "code",
      "metadata": {
        "id": "sMtM7c7F6d4Y"
      },
      "source": [
        "import plotly.graph_objs as go\n",
        "fig = go.Figure(go.Waterfall(\n",
        "    name = \"2018\", orientation = \"h\",\n",
        "    measure = [\"relative\", \"relative\", \"relative\", \"relative\",\"total\",\n",
        "               \"relative\", \"relative\", \"relative\", \"relative\",\"total\",\n",
        "                \"relative\",\"total\"],\n",
        "    y = df.index.to_list(),\n",
        "    x = df['Value']\n",
        "))\n",
        "\n",
        "# the function go.Waterfall() doesn't have a argument for setting width, height and title\n",
        "# It is needed to set with .update_layout()\n",
        "fig.update_layout(title = \"Waterfall Chart - Profit & Losses in 2020 in M$\", width=800, height=500)\n",
        "fig.show()"
      ],
      "execution_count": null,
      "outputs": []
    },
    {
      "cell_type": "markdown",
      "metadata": {
        "id": "4niNlESLq73v"
      },
      "source": [
        "## Adittional arguments consideration"
      ]
    },
    {
      "cell_type": "markdown",
      "metadata": {
        "id": "PXBtKe3urI4y"
      },
      "source": [
        "There are additional arguments, present in almost all of the functions we covered that we often will adjust depending in our use case and projects"
      ]
    },
    {
      "cell_type": "markdown",
      "metadata": {
        "id": "lP6YauHcrCnR"
      },
      "source": [
        "### Title"
      ]
    },
    {
      "cell_type": "markdown",
      "metadata": {
        "id": "vrinEVSyrcCk"
      },
      "source": [
        "Consider the dataset\n",
        "* It has records on population, Gross Domestic Product, life expectancy for more than 140 countries. Each row represents a country on a given year"
      ]
    },
    {
      "cell_type": "code",
      "metadata": {
        "id": "jVIZOW_krcCm"
      },
      "source": [
        "df = px.data.gapminder()\n",
        "df.head(3)"
      ],
      "execution_count": null,
      "outputs": []
    },
    {
      "cell_type": "markdown",
      "metadata": {
        "id": "1vsxx2SWrkpa"
      },
      "source": [
        "You can set the title with the argument `title`"
      ]
    },
    {
      "cell_type": "code",
      "metadata": {
        "id": "lIMiz8TbrcCn"
      },
      "source": [
        "fig = px.scatter(df, x=\"gdpPercap\", y=\"lifeExp\", \n",
        "                 animation_frame=\"year\", \n",
        "                 size=\"pop\",size_max=55, \n",
        "                 color=\"continent\", hover_name=\"country\",\n",
        "                 log_x=True, range_x=[100,100000], range_y=[25,90],\n",
        "                 title='Title for this Figure!!!!'\n",
        "            )\n",
        "\n",
        "fig.show()"
      ],
      "execution_count": null,
      "outputs": []
    },
    {
      "cell_type": "markdown",
      "metadata": {
        "id": "VwnMAVmKrED2"
      },
      "source": [
        "### Set Plot Size"
      ]
    },
    {
      "cell_type": "code",
      "metadata": {
        "id": "Xp8vPC_mrFzp"
      },
      "source": [
        "fig = px.scatter(df, x=\"gdpPercap\", y=\"lifeExp\", \n",
        "                 animation_frame=\"year\", \n",
        "                 size=\"pop\",size_max=55, \n",
        "                 color=\"continent\", hover_name=\"country\",\n",
        "                 log_x=True, range_x=[100,100000], range_y=[25,90],\n",
        "                 width=350, height=350\n",
        "            )\n",
        "\n",
        "fig.show()"
      ],
      "execution_count": null,
      "outputs": []
    },
    {
      "cell_type": "markdown",
      "metadata": {
        "id": "AzaBdvG0rGTB"
      },
      "source": [
        "### Set template"
      ]
    },
    {
      "cell_type": "markdown",
      "metadata": {
        "id": "4eZzcPlssO3v"
      },
      "source": [
        "Check available templates, or themes"
      ]
    },
    {
      "cell_type": "code",
      "metadata": {
        "id": "Ez9vYXvZrIEZ"
      },
      "source": [
        "import plotly.io as pio\n",
        "pio.templates"
      ],
      "execution_count": null,
      "outputs": []
    },
    {
      "cell_type": "code",
      "metadata": {
        "id": "R-lmg3vbsRGb"
      },
      "source": [
        "fig = px.scatter(df, x=\"gdpPercap\", y=\"lifeExp\", \n",
        "                 animation_frame=\"year\", \n",
        "                 size=\"pop\",size_max=55, \n",
        "                 color=\"continent\", hover_name=\"country\",\n",
        "                 log_x=True, range_x=[100,100000], range_y=[25,90],\n",
        "                 template='xgridoff'\n",
        "            )\n",
        "\n",
        "fig.show()"
      ],
      "execution_count": null,
      "outputs": []
    }
  ]
}